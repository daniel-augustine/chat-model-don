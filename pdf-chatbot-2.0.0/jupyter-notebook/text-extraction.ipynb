{
 "cells": [
  {
   "cell_type": "code",
   "execution_count": 2,
   "id": "2713fb2f-06f4-4aa6-a119-2a9dce0a05d4",
   "metadata": {},
   "outputs": [],
   "source": [
    "import pdfplumber\n",
    "from pathlib import Path\n",
    "from docx import Document"
   ]
  },
  {
   "cell_type": "code",
   "execution_count": 3,
   "id": "770694cb-06eb-4672-9ed0-dac7888ab4f6",
   "metadata": {},
   "outputs": [],
   "source": [
    "def extract_text(file_path):\n",
    "    \"\"\"\n",
    "    Extracts text from PDF/TXT/DOCX files.\n",
    "    Returns: List of text chunks (pages/sections) or None if failed\n",
    "    \"\"\"\n",
    "    try:\n",
    "        if not Path(file_path).exists():\n",
    "            raise FileNotFoundError(f\"File not found: {file_path}\")\n",
    "        \n",
    "        # PDF handling\n",
    "        if file_path.lower().endswith('.pdf'):\n",
    "            text = []\n",
    "            with pdfplumber.open(file_path) as pdf:\n",
    "                for page in pdf.pages:\n",
    "                    content = page.extract_text(x_tolerance=3)  # PPT-friendly\n",
    "                    if content:\n",
    "                        text.append(content)\n",
    "            return text if text else None\n",
    "        \n",
    "        # TXT handling\n",
    "        elif file_path.lower().endswith('.txt'):\n",
    "            with open(file_path, 'r', encoding='utf-8') as f:\n",
    "                return [f.read()]\n",
    "        \n",
    "        # DOCX handling\n",
    "        elif file_path.lower().endswith('.docx'):\n",
    "            doc = Document(file_path)\n",
    "            return [\"\\n\".join(para.text for para in doc.paragraphs)]\n",
    "        \n",
    "        else:\n",
    "            raise ValueError(\"Unsupported file type. Use PDF/TXT/DOCX\")\n",
    "            \n",
    "    except Exception as e:\n",
    "        print(f\"❌ Error: {str(e)}\")\n",
    "        return None"
   ]
  },
  {
   "cell_type": "code",
   "execution_count": 4,
   "id": "eee71496-ff2d-4d20-b5cf-37c6815ae0e0",
   "metadata": {},
   "outputs": [
    {
     "name": "stdout",
     "output_type": "stream",
     "text": [
      "✅ Extracted 42 sections\n",
      "\n",
      "Sample content:\n",
      "Connectivity Verification\n",
      "ICMPv4 Messages (Contd.)\n",
      "Destination or Service Unreachable\n",
      "• When a host or gateway receives a packet that it cannot deliver, it can use an ICMP\n",
      "Destination Unreachable message to notify the source that the destination or service is\n",
      "unreachable.\n",
      "• The message will include a code that indicates why the packet could not be delivered. The\n",
      "Destination Unreachable codes for ICMPv4 includes the following:\n",
      "• 0 - Net unreachable\n",
      "• 1 - Host unreachable\n",
      "• 2 - Protocol unreachable\n",
      "• 3 - Port unreachable\n",
      "Note: ICMPv6 has slightly different codes for Destination Unreachable messages....\n"
     ]
    }
   ],
   "source": [
    "# Replace with your actual file path\n",
    "test_file = \"/home/dibi/Documents/pdf-chatbot-metada/ppt1.pdf\"  \n",
    "\n",
    "# Execute extraction\n",
    "result = extract_text(test_file)\n",
    "\n",
    "# Display results\n",
    "if result:\n",
    "    print(f\"✅ Extracted {len(result)} sections\")\n",
    "    print(\"\\nSample content:\")\n",
    "    # print(result) # for text\n",
    "    print(result[4][:1000] + \"...\")  # First n chars of first section for pdf and docx files\n",
    "else:\n",
    "    print(\"❌ Extraction failed\")"
   ]
  },
  {
   "cell_type": "code",
   "execution_count": null,
   "id": "06e739a3-6029-46a7-80e9-b3358845a692",
   "metadata": {},
   "outputs": [],
   "source": []
  }
 ],
 "metadata": {
  "kernelspec": {
   "display_name": "Python 3 (ipykernel)",
   "language": "python",
   "name": "python3"
  },
  "language_info": {
   "codemirror_mode": {
    "name": "ipython",
    "version": 3
   },
   "file_extension": ".py",
   "mimetype": "text/x-python",
   "name": "python",
   "nbconvert_exporter": "python",
   "pygments_lexer": "ipython3",
   "version": "3.12.3"
  }
 },
 "nbformat": 4,
 "nbformat_minor": 5
}
